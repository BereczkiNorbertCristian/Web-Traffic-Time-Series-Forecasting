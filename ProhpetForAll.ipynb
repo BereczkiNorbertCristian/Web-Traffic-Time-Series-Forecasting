{
 "cells": [
  {
   "cell_type": "code",
   "execution_count": 2,
   "metadata": {},
   "outputs": [],
   "source": [
    "import numpy as np\n",
    "import pandas as pd\n",
    "import matplotlib.pyplot as plt\n",
    "from fbprophet import Prophet"
   ]
  },
  {
   "cell_type": "code",
   "execution_count": 3,
   "metadata": {},
   "outputs": [],
   "source": [
    "def unwrap(lst):\n",
    "    ret = []\n",
    "    for inLst in lst:\n",
    "        ret.append(inLst[0])\n",
    "    return ret\n",
    "\n",
    "def fromSeriesToDF(df,series,IDX):\n",
    "    series = df.iloc[IDX,:]\n",
    "    dfSeries = series.to_frame()\n",
    "    newdata = { 'ds':dfSeries.axes[0][1:].tolist(),'y':unwrap(dfSeries.values.tolist()[1:]) }\n",
    "    newframe = pd.DataFrame(data=newdata)\n",
    "    return newframe\n",
    "\n",
    "def getTrainTest(df,sz,prc):\n",
    "    proc = 100 - prc\n",
    "    until = (proc * sz) // 100\n",
    "    return df.iloc[:until],df.iloc[until:],until\n",
    "\n",
    "def smape(actual,forecasted):\n",
    "    if len(actual) != len(forecasted):\n",
    "        raise Exception(\"Lists not equal\")\n",
    "    lst_size = len(actual)\n",
    "    sum = 0\n",
    "    for i in range(0,lst_size):\n",
    "        sum += (np.absolute(forecasted[i] - actual[i]))/(np.absolute(forecasted[i]) + np.absolute(actual[i]))\n",
    "    return sum / lst_size"
   ]
  },
  {
   "cell_type": "code",
   "execution_count": 4,
   "metadata": {},
   "outputs": [],
   "source": [
    "def doForSeries(df,series,IDX):\n",
    "    newdf = fromSeriesToDF(df,series,IDX)\n",
    "    df_size = newdf.shape[0]\n",
    "    train_df,test_df,until = getTrainTest(newdf,df_size,30)\n",
    "\n",
    "    my_model = Prophet(interval_width=0.95)\n",
    "    my_model.fit(train_df)\n",
    "    future_dates = my_model.make_future_dataframe(periods=df_size-until)\n",
    "    forecast = my_model.predict(future_dates)\n",
    "    \n",
    "    forecasted_values = unwrap(forecast[['yhat']].values.tolist()[until:])\n",
    "    test_values = unwrap(test_df[['y']].values.tolist())\n",
    "    return smape(test_values,forecasted_values)\n",
    "    \n",
    "def overlord(df,GO_UNTIL):\n",
    "    ret = []\n",
    "    for i in range(0,GO_UNTIL):\n",
    "        ret.append(doForSeries(df,df.iloc[i],i))\n",
    "    return ret\n",
    "        "
   ]
  },
  {
   "cell_type": "code",
   "execution_count": 5,
   "metadata": {
    "scrolled": true
   },
   "outputs": [
    {
     "name": "stderr",
     "output_type": "stream",
     "text": [
      "INFO:fbprophet.forecaster:Disabling yearly seasonality. Run prophet with yearly_seasonality=True to override this.\n",
      "INFO:fbprophet.forecaster:Disabling daily seasonality. Run prophet with daily_seasonality=True to override this.\n",
      "INFO:fbprophet.forecaster:Disabling yearly seasonality. Run prophet with yearly_seasonality=True to override this.\n",
      "INFO:fbprophet.forecaster:Disabling daily seasonality. Run prophet with daily_seasonality=True to override this.\n",
      "INFO:fbprophet.forecaster:Disabling yearly seasonality. Run prophet with yearly_seasonality=True to override this.\n",
      "INFO:fbprophet.forecaster:Disabling daily seasonality. Run prophet with daily_seasonality=True to override this.\n",
      "INFO:fbprophet.forecaster:Disabling yearly seasonality. Run prophet with yearly_seasonality=True to override this.\n",
      "INFO:fbprophet.forecaster:Disabling daily seasonality. Run prophet with daily_seasonality=True to override this.\n",
      "INFO:fbprophet.forecaster:Disabling yearly seasonality. Run prophet with yearly_seasonality=True to override this.\n",
      "INFO:fbprophet.forecaster:Disabling daily seasonality. Run prophet with daily_seasonality=True to override this.\n"
     ]
    },
    {
     "data": {
      "text/plain": [
       "[0.31013612472427515,\n",
       " 0.23056686039413085,\n",
       " 0.29024416575712075,\n",
       " 0.36878532802459613,\n",
       " 0.98906044459256892]"
      ]
     },
     "execution_count": 5,
     "metadata": {},
     "output_type": "execute_result"
    }
   ],
   "source": [
    "GO_UNTIL = 5\n",
    "df = pd.read_csv('train_1.csv')\n",
    "lst = overlord(df,GO_UNTIL)\n",
    "lst"
   ]
  },
  {
   "cell_type": "code",
   "execution_count": 6,
   "metadata": {},
   "outputs": [
    {
     "data": {
      "image/png": "[encoded data removed]",
      "text/plain": [
       "<matplotlib.figure.Figure at 0x7fa6c1048630>"
      ]
     },
     "metadata": {},
     "output_type": "display_data"
    }
   ],
   "source": [
    "row = fromSeriesToDF(df,df.iloc[4],4)\n",
    "row.plot()\n",
    "plt.show()"
   ]
  },
  {
   "cell_type": "code",
   "execution_count": null,
   "metadata": {},
   "outputs": [],
   "source": []
  }
 ],
 "metadata": {
  "kernelspec": {
   "display_name": "Python 3",
   "language": "python",
   "name": "python3"
  },
  "language_info": {
   "codemirror_mode": {
    "name": "ipython",
    "version": 3
   },
   "file_extension": ".py",
   "mimetype": "text/x-python",
   "name": "python",
   "nbconvert_exporter": "python",
   "pygments_lexer": "ipython3",
   "version": "3.5.2"
  }
 },
 "nbformat": 4,
 "nbformat_minor": 2
}
